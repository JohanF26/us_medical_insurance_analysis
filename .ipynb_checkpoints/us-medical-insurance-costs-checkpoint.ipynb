{
 "cells": [
  {
   "cell_type": "markdown",
   "metadata": {},
   "source": [
    "# U.S. Medical Insurance Costs"
   ]
  },
  {
   "cell_type": "markdown",
   "metadata": {},
   "source": [
    " Goals:\n",
    "1. Determine whether data collected is balanced. (sex, ages, region)\n",
    "2. Compare insurance costs across different metrics. (age, sex, bmi, smoker, region)\n",
    "3. Find average age for:\n",
    "    - males\n",
    "    - females\n",
    "    - someone with at least one child.\n",
    "    - someone with no children\n",
    "    - smokers\n",
    "    - non-smokers\n",
    "    - people in each region\n",
    "4. Find average bmi per region\n",
    "5. Find average insurance cost for 12 bmi ranges (<20,20-22,22-24,24-26,26-28,28-30,30-32,32-34,34-36,36-38,38-40,>40)"
   ]
  },
  {
   "cell_type": "code",
   "execution_count": 1,
   "metadata": {},
   "outputs": [],
   "source": [
    "import csv\n",
    "\n",
    "insurance_data_dicts = []\n",
    "fieldnames = []\n",
    "#data_size = 0\n",
    "\n",
    "with open('insurance.csv') as insurance_csv:\n",
    "    insurance_data_dicts = list(csv.DictReader(insurance_csv))\n",
    "    fieldnames = insurance_data_dicts[0].keys()\n",
    "\n",
    "#data_size = len(insurance_data_dicts)"
   ]
  },
  {
   "cell_type": "markdown",
   "metadata": {},
   "source": [
    "### Analyzing Age Data\n",
    "1. Find average age across dataset\n",
    "2. Find percentage of people in each decade bucket\n",
    "3. Find average age for each sex\n",
    "4. Find average age for someone with at least one child\n",
    "5. Find average age for someone with no children\n",
    "6. Find average age for smokers and non-smokers\n",
    "7. Find average age for people in each region"
   ]
  },
  {
   "cell_type": "code",
   "execution_count": 2,
   "metadata": {},
   "outputs": [
    {
     "name": "stdout",
     "output_type": "stream",
     "text": [
      "Average age: 39.20702541106129\n",
      "Median Age: 39\n",
      "Max Age: 64\n",
      "Min Age: 18\n"
     ]
    }
   ],
   "source": [
    "def get_mean(data_list):\n",
    "    return sum(data_list) / len(data_list)\n",
    "\n",
    "def get_median(data_list):\n",
    "    sorted_data = sorted(data_list)\n",
    "    n = len(data_list)\n",
    "    midpoint = n//2\n",
    "    if n % 2:\n",
    "        return (sorted_data[midpoint-1] + sorted_data[midpoint]) / 2\n",
    "    else:\n",
    "        return sorted_data[midpoint]\n",
    "\n",
    "def get_max_min(data_list):\n",
    "    return max(data_list),min(data_list)\n",
    "\n",
    "ages = [int(row['age']) for row in insurance_data_dicts]\n",
    "avg_age = get_mean(ages)\n",
    "median_age = get_median(ages)\n",
    "max_age, min_age = get_max_min(ages)\n",
    "print(f\"Average age: {avg_age}\\nMedian Age: {median_age}\\nMax Age: {max_age}\\nMin Age: {min_age}\")"
   ]
  },
  {
   "cell_type": "code",
   "execution_count": 3,
   "metadata": {},
   "outputs": [
    {
     "name": "stdout",
     "output_type": "stream",
     "text": [
      "10.24% of data collected is from people in their 10s\n",
      "20.93% of data collected is from people in their 20s\n",
      "19.21% of data collected is from people in their 30s\n",
      "20.85% of data collected is from people in their 40s\n",
      "8.52% of data collected is from people in their 60s\n",
      "20.25% of data collected is from people in their 50s\n"
     ]
    }
   ],
   "source": [
    "def get_percentage_each_decade(age_list):\n",
    "    age_buckets = {}\n",
    "    for age in age_list:\n",
    "        bucket = age // 10\n",
    "        age_buckets[bucket*10] = age_buckets.get(bucket*10, 0) + 1\n",
    "\n",
    "    for bucket in age_buckets:\n",
    "        age_buckets[bucket] = age_buckets[bucket] * 100 / len(age_list)\n",
    "\n",
    "    return age_buckets\n",
    "\n",
    "age_buckets = get_percentage_each_decade(ages)\n",
    "for bucket in age_buckets:\n",
    "    print(f\"{age_buckets[bucket]:.2f}% of data collected is from people in their {bucket}s\")"
   ]
  },
  {
   "cell_type": "code",
   "execution_count": 5,
   "metadata": {},
   "outputs": [
    {
     "name": "stdout",
     "output_type": "stream",
     "text": [
      "The average age for males in the dataset is 38.917159763313606 in a sample of 676 males\n",
      "The average age for females in the dataset is 39.503021148036254 in a sample of 662 females\n",
      "\n",
      "The average age for people with children is 39.78010471204188\n",
      "The average age for people without children is 38.444250871080136\n",
      "\n",
      "The average age for smokers in the dataset is 38.51459854014598\n",
      "The average age for non-smokers in the dataset is 39.38533834586466\n"
     ]
    }
   ],
   "source": [
    "male_data = []\n",
    "female_data = []\n",
    "for row in insurance_data_dicts:\n",
    "    if row['sex'] == 'male':\n",
    "        male_data.append(row)\n",
    "    else:\n",
    "        female_data.append(row)\n",
    "        \n",
    "male_avg_age = get_mean([int(row['age']) for row in male_data])\n",
    "female_avg_age = get_mean([int(row['age']) for row in female_data])\n",
    "\n",
    "print(f\"The average age for males in the dataset is {male_avg_age} in a sample of {len(male_data)} males\")\n",
    "print(f\"The average age for females in the dataset is {female_avg_age} in a sample of {len(female_data)} females\\n\")\n",
    "\n",
    "has_child_avg_age = get_mean([int(row['age']) for row in insurance_data_dicts if int(row['children']) > 0])\n",
    "has_no_child_avg_age = get_mean([int(row['age']) for row in insurance_data_dicts if int(row['children']) == 0])\n",
    "print(f\"The average age for people with children is {has_child_avg_age}\")\n",
    "print(f\"The average age for people without children is {has_no_child_avg_age}\\n\")\n",
    "\n",
    "smoker_data = []\n",
    "non_smoker_data = []\n",
    "for row in insurance_data_dicts:\n",
    "    if row['smoker'] == 'yes':\n",
    "        smoker_data.append(row)\n",
    "    else:\n",
    "        non_smoker_data.append(row)\n",
    "\n",
    "smoker_avg_age = get_mean([int(row['age']) for row in smoker_data])\n",
    "non_smoker_avg_age = get_mean([int(row['age']) for row in non_smoker_data])\n",
    "print(f\"The average age for smokers in the dataset is {smoker_avg_age}\")\n",
    "print(f\"The average age for non-smokers in the dataset is {non_smoker_avg_age}\")"
   ]
  },
  {
   "cell_type": "code",
   "execution_count": 7,
   "metadata": {},
   "outputs": [
    {
     "name": "stdout",
     "output_type": "stream",
     "text": [
      "The sample size from the southwest surveyed 325 people.\n",
      "The sample size from the southeast surveyed 364 people.\n",
      "The sample size from the northwest surveyed 325 people.\n",
      "The sample size from the northeast surveyed 324 people.\n",
      "\n",
      "The average age for people in the southwest region is 39.45538461538462\n",
      "The average age for people in the southeast region is 38.93956043956044\n",
      "The average age for people in the northwest region is 39.19692307692308\n",
      "The average age for people in the northeast region is 39.26851851851852\n"
     ]
    }
   ],
   "source": [
    "def sample_size_by_feature(data):\n",
    "    people_by_feature = {}\n",
    "    for row in data:\n",
    "        people_by_feature[row] = people_by_feature.get(row, 0) + 1\n",
    "    \n",
    "    return people_by_feature\n",
    "\n",
    "def avg_metric_by_feature(data, metric, feature):\n",
    "    people_by_feature = sample_size_by_feature([row[feature] for row in data])\n",
    "    metric_by_feature = {}\n",
    "    for row in data:\n",
    "        current_feature = row[feature]\n",
    "        metric_by_feature[current_feature] = metric_by_feature.get(current_feature,0) + float(row[metric])\n",
    "\n",
    "    for feature in people_by_feature:\n",
    "        metric_by_feature[feature] /= people_by_feature[feature]\n",
    "    \n",
    "    return metric_by_feature\n",
    "\n",
    "for region, sample in sample_size_by_feature([row['region'] for row in insurance_data_dicts]).items():\n",
    "    print(f\"The sample size from the {region} surveyed {sample} people.\")\n",
    "\n",
    "print()\n",
    "\n",
    "for region,avg_age in avg_metric_by_feature(insurance_data_dicts, 'age', 'region').items():\n",
    "    print(f\"The average age for people in the {region} region is {avg_age}\")"
   ]
  },
  {
   "cell_type": "markdown",
   "metadata": {},
   "source": [
    "### Analyzing BMI Data\n",
    "1. Find average BMI in dataset\n",
    "2. Find average BMI per region\n",
    "3. Find average BMI for male and female populations"
   ]
  },
  {
   "cell_type": "code",
   "execution_count": 8,
   "metadata": {},
   "outputs": [
    {
     "name": "stdout",
     "output_type": "stream",
     "text": [
      "The average BMI for the dataset is 30.663396860986538\n"
     ]
    }
   ],
   "source": [
    "avg_bmi = get_mean([float(row['bmi']) for row in insurance_data_dicts])\n",
    "print(f\"The average BMI for the dataset is {avg_bmi}\")"
   ]
  },
  {
   "cell_type": "code",
   "execution_count": 10,
   "metadata": {},
   "outputs": [
    {
     "name": "stdout",
     "output_type": "stream",
     "text": [
      "The average bmi for people in the southwest region is 30.59661538461538\n",
      "The average bmi for people in the southeast region is 33.35598901098903\n",
      "The average bmi for people in the northwest region is 29.199784615384626\n",
      "The average bmi for people in the northeast region is 29.17350308641976\n"
     ]
    }
   ],
   "source": [
    "for region,avg_bmi in avg_metric_by_feature(insurance_data_dicts, 'bmi', 'region').items():\n",
    "    print(f\"The average bmi for people in the {region} region is {avg_bmi}\")"
   ]
  },
  {
   "cell_type": "code",
   "execution_count": 12,
   "metadata": {},
   "outputs": [
    {
     "name": "stdout",
     "output_type": "stream",
     "text": [
      "The average bmi for males in the dataset is 30.943128698224832.\n",
      "The average bmi for females in the dataset is 30.377749244713023.\n",
      "\n",
      "The average bmi for males in the southeast region is 33.99.\n",
      "The average bmi for males in the northwest region is 29.120155279503102.\n",
      "The average bmi for males in the northeast region is 29.024539877300615.\n",
      "The average bmi for males in the southwest region is 31.129447852760737.\n",
      "The average bmi for females in the southwest region is 30.060493827160496\n",
      "The average bmi for females in the southeast region is 32.67125714285712\n",
      "The average bmi for females in the northwest region is 29.27795731707316\n",
      "The average bmi for females in the northeast region is 29.324316770186336\n"
     ]
    }
   ],
   "source": [
    "avg_male_bmi = get_mean([float(row['bmi']) for row in male_data])\n",
    "avg_female_bmi = get_mean([float(row['bmi']) for row in female_data])\n",
    "print(f\"The average bmi for males in the dataset is {avg_male_bmi}.\")\n",
    "print(f\"The average bmi for females in the dataset is {avg_female_bmi}.\\n\")\n",
    "\n",
    "for region,avg_bmi in avg_metric_by_feature(male_data, 'bmi', 'region').items():\n",
    "    print(f\"The average bmi for males in the {region} region is {avg_bmi}.\")\n",
    "\n",
    "for region,avg_bmi in avg_metric_by_feature(female_data, 'bmi', 'region').items():\n",
    "    print(f\"The average bmi for females in the {region} region is {avg_bmi}\")"
   ]
  },
  {
   "cell_type": "markdown",
   "metadata": {},
   "source": [
    "### Analyzing Insurance Data and its relations\n",
    "1. Find average charges in the dataset\n",
    "2. Find average charges by sex\n",
    "3. Find average charges by region\n",
    "4. Find average charges for smokers and non-smokers\n",
    "5. Find average charges for people with different amounts of children"
   ]
  },
  {
   "cell_type": "code",
   "execution_count": 13,
   "metadata": {},
   "outputs": [
    {
     "name": "stdout",
     "output_type": "stream",
     "text": [
      "The average insurance cost in the dataset is 13270.422265141257\n"
     ]
    }
   ],
   "source": [
    "avg_charges = get_mean([float(row['charges']) for row in insurance_data_dicts])\n",
    "print(f\"The average insurance cost in the dataset is {avg_charges}\")"
   ]
  },
  {
   "cell_type": "code",
   "execution_count": 14,
   "metadata": {},
   "outputs": [
    {
     "name": "stdout",
     "output_type": "stream",
     "text": [
      "The average insurance cost for males in the dataset is 13956.751177721886.\n",
      "The average insurance cost for females in the dataset is 12569.57884383534.\n",
      "\n",
      "On average, males in the dataset pay 1387.1723338865468 more for insurance.\n"
     ]
    }
   ],
   "source": [
    "avg_male_charges = get_mean([float(row['charges']) for row in male_data])\n",
    "avg_female_charges = get_mean([float(row['charges']) for row in female_data])\n",
    "print(f\"The average insurance cost for males in the dataset is {avg_male_charges}.\")\n",
    "print(f\"The average insurance cost for females in the dataset is {avg_female_charges}.\\n\")\n",
    "print(f\"On average, males in the dataset pay {avg_male_charges-avg_female_charges} more for insurance.\")"
   ]
  },
  {
   "cell_type": "code",
   "execution_count": 16,
   "metadata": {},
   "outputs": [
    {
     "name": "stdout",
     "output_type": "stream",
     "text": [
      "The average insurance cost for people in the southwest region is 12346.93737729231\n",
      "The average insurance cost for people in the southeast region is 14735.411437609895\n",
      "The average insurance cost for people in the northwest region is 12417.575373969228\n",
      "The average insurance cost for people in the northeast region is 13406.3845163858\n",
      "The region with the highest insurance costs on average is the southeast region.\n"
     ]
    }
   ],
   "source": [
    "charges_by_region = avg_metric_by_feature(insurance_data_dicts, 'charges', 'region')\n",
    "for region,avg_charges in charges_by_region.items():\n",
    "    print(f\"The average insurance cost for people in the {region} region is {avg_charges}\")\n",
    "\n",
    "highest_cost_region = max(charges_by_region, key=charges_by_region.get)\n",
    "print(f\"The region with the highest insurance costs on average is the {highest_cost_region} region.\")"
   ]
  },
  {
   "cell_type": "code",
   "execution_count": 33,
   "metadata": {},
   "outputs": [
    {
     "name": "stdout",
     "output_type": "stream",
     "text": [
      "The average insurance cost for smokers in the dataset is 32050.23183153285\n",
      "The average insurance cost for non-smokers in the dataset is 8434.268297856199\n",
      "On average, smokers in the dataset pay $23615.96353367665 more on insurance than non-smokers.\n"
     ]
    }
   ],
   "source": [
    "smoker_dict = avg_metric_by_feature(insurance_data_dicts, 'charges','smoker')\n",
    "\n",
    "print(f\"The average insurance cost for smokers in the dataset is {smoker_dict['yes']}\")\n",
    "print(f\"The average insurance cost for non-smokers in the dataset is {smoker_dict['no']}\")\n",
    "print(f\"On average, smokers in the dataset pay ${smoker_dict['yes']-smoker_dict['no']} more on insurance than non-smokers.\")"
   ]
  },
  {
   "cell_type": "code",
   "execution_count": 29,
   "metadata": {},
   "outputs": [
    {
     "name": "stdout",
     "output_type": "stream",
     "text": [
      "574 people had 0 children\n",
      "324 people had 1 children\n",
      "240 people had 2 children\n",
      "157 people had 3 children\n",
      "25 people had 4 children\n",
      "18 people had 5 children\n",
      "\n",
      "People with 0 children have an average insurance cost of 12365.975601635882.\n",
      "People with 1 children have an average insurance cost of 12731.171831635793.\n",
      "People with 2 children have an average insurance cost of 15073.563733958328.\n",
      "People with 3 children have an average insurance cost of 15355.31836681528.\n",
      "People with 4 children have an average insurance cost of 13850.656311199999.\n",
      "People with 5 children have an average insurance cost of 8786.035247222222.\n"
     ]
    }
   ],
   "source": [
    "people_by_num_children = sample_size_by_feature([int(row['children']) for row in insurance_data_dicts])\n",
    "for num_children, people in sorted(people_by_num_children.items()):\n",
    "    print(f\"{people} people had {num_children} children\")\n",
    "\n",
    "print()\n",
    "\n",
    "charges_by_num_children = avg_metric_by_feature(insurance_data_dicts, 'charges','children')\n",
    "for num_children, charges in sorted(charges_by_num_children.items()):\n",
    "    print(f\"People with {num_children} children have an average insurance cost of {charges}.\")"
   ]
  }
 ],
 "metadata": {
  "kernelspec": {
   "display_name": "Python 3 (ipykernel)",
   "language": "python",
   "name": "python3"
  },
  "language_info": {
   "codemirror_mode": {
    "name": "ipython",
    "version": 3
   },
   "file_extension": ".py",
   "mimetype": "text/x-python",
   "name": "python",
   "nbconvert_exporter": "python",
   "pygments_lexer": "ipython3",
   "version": "3.11.5"
  }
 },
 "nbformat": 4,
 "nbformat_minor": 4
}
