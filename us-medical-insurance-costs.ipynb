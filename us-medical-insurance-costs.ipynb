{
 "cells": [
  {
   "cell_type": "markdown",
   "metadata": {},
   "source": [
    "# U.S. Medical Insurance Costs"
   ]
  },
  {
   "cell_type": "markdown",
   "metadata": {},
   "source": [
    "### Goals:\n",
    "The goal of this project is to analyze the U.S. Medical Insurance Costs dataset provided using Python and see what interesting insights we can gain from the data.\n",
    "\n",
    "Some imformation that would be useful to have is:\n",
    "1. Basic Data:\n",
    "   - Size of dataset\n",
    "   - Fields of dataset\n",
    "   - Sample size by sex\n",
    "   - Sample size by region\n",
    "   - Sample size of smokers and non-smokers\n",
    "2. Age Data:\n",
    "   - Min and max ages in dataset\n",
    "   - Average age in dataset\n",
    "   - Average age by sex\n",
    "   - Average age by number of children\n",
    "   - Average age of smokers and non-smokers\n",
    "   - Average age in each region\n",
    "   - Spread of ages (buckets)\n",
    "3. BMI Data:\n",
    "   - Min and Max BMI in dataset\n",
    "   - Average BMI\n",
    "   - Average BMI by sex\n",
    "   - Average BMI by region\n",
    "   - Average BMI by sex in each region\n",
    "   - Average BMI for smokers and non-smokers\n",
    "4. Insurance Yearly Cost Data:\n",
    "   - Average charges in the dataset\n",
    "   - Average charges by sex\n",
    "   - Average charges by region\n",
    "   - Average charges for smokers and non-smokers\n",
    "   - Average charges by number of children\n",
    "   - Average insurance costs by BMI (buckets)"
   ]
  },
  {
   "cell_type": "code",
   "execution_count": 1,
   "metadata": {},
   "outputs": [],
   "source": [
    "#library to read CSV Files\n",
    "import csv\n",
    "\n",
    "insurance_data_records = []\n",
    "\n",
    "#Storing the insurance data into a list of dictionaries\n",
    "#each entry in the list is one record\n",
    "with open('insurance.csv') as insurance_csv:\n",
    "    insurance_data_records = list(csv.DictReader(insurance_csv))\n",
    "    "
   ]
  },
  {
   "cell_type": "code",
   "execution_count": 50,
   "metadata": {},
   "outputs": [],
   "source": [
    "#These are a few functions that will help us with data analysis.\n",
    "def get_mean(data_list):\n",
    "    return sum(data_list) / len(data_list)\n",
    "\n",
    "def get_median(data_list):\n",
    "    sorted_data = sorted(data_list)\n",
    "    n = len(data_list)\n",
    "    midpoint = n//2\n",
    "    if n % 2:\n",
    "        return (sorted_data[midpoint-1] + sorted_data[midpoint]) / 2\n",
    "    else:\n",
    "        return sorted_data[midpoint]\n",
    "\n",
    "def get_max_min(data_list):\n",
    "    return max(data_list),min(data_list)\n",
    "\n",
    "def get_percentage_each_age_bucket(age_list, age_split):\n",
    "    age_buckets = {}\n",
    "    for age in age_list:\n",
    "        bucket = age // age_split\n",
    "        age_buckets[bucket*age_split] = age_buckets.get(bucket*age_split, 0) + 1\n",
    "\n",
    "    for bucket in age_buckets:\n",
    "        age_buckets[bucket] = age_buckets[bucket] * 100 / len(age_list)\n",
    "\n",
    "    return age_buckets\n",
    "\n",
    "def sample_size_by_feature(data):\n",
    "    people_by_feature = {}\n",
    "    for row in data:\n",
    "        people_by_feature[row] = people_by_feature.get(row, 0) + 1\n",
    "    \n",
    "    return people_by_feature\n",
    "\n",
    "def avg_metric_by_feature(data, metric, feature):\n",
    "    people_by_feature = sample_size_by_feature([row[feature] for row in data])\n",
    "    metric_by_feature = {}\n",
    "    for row in data:\n",
    "        current_feature = row[feature]\n",
    "        metric_by_feature[current_feature] = metric_by_feature.get(current_feature,0) + float(row[metric])\n",
    "\n",
    "    for feature in people_by_feature:\n",
    "        metric_by_feature[feature] /= people_by_feature[feature]\n",
    "    \n",
    "    return metric_by_feature"
   ]
  },
  {
   "cell_type": "markdown",
   "metadata": {},
   "source": [
    "#### Basic Data:\n",
    "1. Size of dataset\n",
    "2. Fields of dataset\n",
    "3. Sample size by sex\n",
    "4. Sample size by region\n",
    "5. Sample size of smokers and non-smokers"
   ]
  },
  {
   "cell_type": "code",
   "execution_count": 54,
   "metadata": {},
   "outputs": [
    {
     "name": "stdout",
     "output_type": "stream",
     "text": [
      "The size of the dataset to analyze is 1338\n",
      "\n",
      "The fields found in the dataset are:\n",
      "\t'age' of type <class 'str'>\n",
      "\t'sex' of type <class 'str'>\n",
      "\t'bmi' of type <class 'str'>\n",
      "\t'children' of type <class 'str'>\n",
      "\t'smoker' of type <class 'str'>\n",
      "\t'region' of type <class 'str'>\n",
      "\t'charges' of type <class 'str'>\n",
      "\n",
      "Number of Males: 676\n",
      "Number of Females: 662\n",
      "Number of Smokers: 274\n",
      "Number of Non-smokers: 1064\n",
      "\n",
      "The sample size from the southwest is 325 people.\n",
      "The sample size from the southeast is 364 people.\n",
      "The sample size from the northwest is 325 people.\n",
      "The sample size from the northeast is 324 people.\n"
     ]
    }
   ],
   "source": [
    "dataset_size = len(insurance_data_records)\n",
    "fieldnames = insurance_data_records[0].keys()\n",
    "\n",
    "male_data = []\n",
    "female_data = []\n",
    "smoker_data = []\n",
    "non_smoker_data = []\n",
    "ages = []\n",
    "regions = []\n",
    "\n",
    "#Split the data by sex and by choice to smoke\n",
    "for row in insurance_data_records:\n",
    "    if row['sex'] == 'male':\n",
    "        male_data.append(row)\n",
    "    else:\n",
    "        female_data.append(row)\n",
    "\n",
    "    if row['smoker'] == 'yes':\n",
    "        smoker_data.append(row)\n",
    "    else:\n",
    "        non_smoker_data.append(row)\n",
    "\n",
    "    ages.append(int(row['age']))\n",
    "    regions.append(row['region'])\n",
    "    \n",
    "\n",
    "num_males = len(male_data)\n",
    "num_females = len(female_data)\n",
    "num_smokers = len(smoker_data)\n",
    "num_non_smokers = len(non_smoker_data)\n",
    "sample_from_each_region = sample_size_by_feature(regions)\n",
    "\n",
    "print(f\"The size of the dataset to analyze is {dataset_size}\\n\")\n",
    "print(f\"The fields found in the dataset are:\")\n",
    "for field in fieldnames:\n",
    "    print(f\"\\t'{field}' of type {type(insurance_data_records[0][field])}\")\n",
    "print(f\"\\nNumber of Males: {num_males}\")\n",
    "print(f\"Number of Females: {num_females}\")\n",
    "print(f\"Number of Smokers: {num_smokers}\")\n",
    "print(f\"Number of Non-smokers: {num_non_smokers}\\n\")\n",
    "for region, sample in sample_from_each_region.items():\n",
    "    print(f\"The sample size from the {region} is {sample} people.\")"
   ]
  },
  {
   "cell_type": "markdown",
   "metadata": {},
   "source": [
    "<b>As we can see</b>\n",
    "- All of the insurance data we have is stored as text strings, including number fields. This means that as we process the data we will need to convert it to the appropriate data type.\n",
    "- A fairly even sample of males and females was collected.\n",
    "- A fairly even sample of people from each region was collected. Southeast region being a slight outlier.\n",
    "- Data contains almost 4 times more non-smokers than smokers. Further research might reveal how representative of the U.S. population this is."
   ]
  },
  {
   "cell_type": "code",
   "execution_count": 30,
   "metadata": {},
   "outputs": [],
   "source": []
  },
  {
   "cell_type": "markdown",
   "metadata": {},
   "source": [
    "#### Analyzing Age Data\n",
    "1. Min and max ages in dataset\n",
    "2. Average age in dataset\n",
    "3. Median age in dataset\n",
    "4. Average age by sex\n",
    "5. Average age by number of children\n",
    "6. Average age of smokers and non-smokers\n",
    "7. Average age in each region\n",
    "8. Spread of ages (buckets)"
   ]
  },
  {
   "cell_type": "code",
   "execution_count": 47,
   "metadata": {},
   "outputs": [
    {
     "name": "stdout",
     "output_type": "stream",
     "text": [
      "Max Age: 64\n",
      "Min Age: 18\n",
      "Average age: 39.21\n",
      "Median Age: 39\n",
      "\n",
      "Average age of females: 39.50\n",
      "Average age of males: 38.92\n",
      "\n",
      "Average age of non-smokers: 39.39\n",
      "Average age of smokers: 38.51\n",
      "\n",
      "Average age of people with 0 children: 38.44\n",
      "Average age of people with 1 children: 39.45\n",
      "Average age of people with 2 children: 39.45\n",
      "Average age of people with 3 children: 41.57\n",
      "Average age of people with 4 children: 39.00\n",
      "Average age of people with 5 children: 35.61\n",
      "\n",
      "Average age in the southwest region: 39.46\n",
      "Average age in the southeast region: 38.94\n",
      "Average age in the northwest region: 39.20\n",
      "Average age in the northeast region: 39.27\n",
      "\n",
      "10.24% of data collected is from people in their 10s\n",
      "20.93% of data collected is from people in their 20s\n",
      "19.21% of data collected is from people in their 30s\n",
      "20.85% of data collected is from people in their 40s\n",
      "20.25% of data collected is from people in their 50s\n",
      "8.52% of data collected is from people in their 60s\n"
     ]
    }
   ],
   "source": [
    "max_age, min_age = get_max_min(ages)\n",
    "avg_age = get_mean(ages)\n",
    "avg_age_by_sex = avg_metric_by_feature(insurance_data_records, 'age', 'sex')\n",
    "median_age = get_median(ages)\n",
    "avg_age_by_num_children = avg_metric_by_feature(insurance_data_records, 'age', 'children')\n",
    "avg_age_by_smoker = avg_metric_by_feature(insurance_data_records, 'age', 'smoker')\n",
    "avg_age_by_region = avg_metric_by_feature(insurance_data_records, 'age', 'region')\n",
    "age_buckets = get_percentage_each_age_bucket(ages, 10)\n",
    "\n",
    "print(f\"Max Age: {max_age}\\nMin Age: {min_age}\\nAverage age: {avg_age:.2f}\\nMedian Age: {median_age}\\n\")\n",
    "for sex,age in avg_age_by_sex.items():\n",
    "    print(f\"Average age of {sex}s: {age:.2f}\")\n",
    "    \n",
    "print()\n",
    "\n",
    "for smoker,age in sorted(avg_age_by_smoker.items()):\n",
    "    print(f\"Average age of {'smoker' if smoker == 'yes' else 'non-smoker'}s: {age:.2f}\")\n",
    "    \n",
    "print()\n",
    "\n",
    "for children,age in sorted(avg_age_by_num_children.items()):\n",
    "    print(f\"Average age of people with {children} children: {age:.2f}\")\n",
    "\n",
    "print()\n",
    "\n",
    "for region,age in avg_age_by_region.items():\n",
    "    print(f\"Average age in the {region} region: {age:.2f}\")\n",
    "\n",
    "print()\n",
    "\n",
    "for bucket in sorted(age_buckets):\n",
    "    print(f\"{age_buckets[bucket]:.2f}% of data collected is from people in their {bucket}s\")"
   ]
  },
  {
   "cell_type": "code",
   "execution_count": 7,
   "metadata": {},
   "outputs": [
    {
     "name": "stdout",
     "output_type": "stream",
     "text": [
      "The sample size from the southwest surveyed 325 people.\n",
      "The sample size from the southeast surveyed 364 people.\n",
      "The sample size from the northwest surveyed 325 people.\n",
      "The sample size from the northeast surveyed 324 people.\n",
      "\n",
      "The average age for people in the southwest region is 39.45538461538462\n",
      "The average age for people in the southeast region is 38.93956043956044\n",
      "The average age for people in the northwest region is 39.19692307692308\n",
      "The average age for people in the northeast region is 39.26851851851852\n"
     ]
    }
   ],
   "source": [
    "\n",
    "\n",
    "\n",
    "\n",
    "print()\n",
    "\n",
    "for region,avg_age in avg_metric_by_feature(insurance_data_dicts, 'age', 'region').items():\n",
    "    print(f\"The average age for people in the {region} region is {avg_age}\")"
   ]
  },
  {
   "cell_type": "markdown",
   "metadata": {},
   "source": [
    "### Analyzing BMI Data\n",
    "1. Find average BMI in dataset\n",
    "2. Find average BMI per region\n",
    "3. Find average BMI for male and female populations"
   ]
  },
  {
   "cell_type": "code",
   "execution_count": 8,
   "metadata": {},
   "outputs": [
    {
     "name": "stdout",
     "output_type": "stream",
     "text": [
      "The average BMI for the dataset is 30.663396860986538\n"
     ]
    }
   ],
   "source": [
    "avg_bmi = get_mean([float(row['bmi']) for row in insurance_data_dicts])\n",
    "print(f\"The average BMI for the dataset is {avg_bmi}\")"
   ]
  },
  {
   "cell_type": "code",
   "execution_count": 10,
   "metadata": {},
   "outputs": [
    {
     "name": "stdout",
     "output_type": "stream",
     "text": [
      "The average bmi for people in the southwest region is 30.59661538461538\n",
      "The average bmi for people in the southeast region is 33.35598901098903\n",
      "The average bmi for people in the northwest region is 29.199784615384626\n",
      "The average bmi for people in the northeast region is 29.17350308641976\n"
     ]
    }
   ],
   "source": [
    "for region,avg_bmi in avg_metric_by_feature(insurance_data_dicts, 'bmi', 'region').items():\n",
    "    print(f\"The average bmi for people in the {region} region is {avg_bmi}\")"
   ]
  },
  {
   "cell_type": "code",
   "execution_count": 12,
   "metadata": {},
   "outputs": [
    {
     "name": "stdout",
     "output_type": "stream",
     "text": [
      "The average bmi for males in the dataset is 30.943128698224832.\n",
      "The average bmi for females in the dataset is 30.377749244713023.\n",
      "\n",
      "The average bmi for males in the southeast region is 33.99.\n",
      "The average bmi for males in the northwest region is 29.120155279503102.\n",
      "The average bmi for males in the northeast region is 29.024539877300615.\n",
      "The average bmi for males in the southwest region is 31.129447852760737.\n",
      "The average bmi for females in the southwest region is 30.060493827160496\n",
      "The average bmi for females in the southeast region is 32.67125714285712\n",
      "The average bmi for females in the northwest region is 29.27795731707316\n",
      "The average bmi for females in the northeast region is 29.324316770186336\n"
     ]
    }
   ],
   "source": [
    "avg_male_bmi = get_mean([float(row['bmi']) for row in male_data])\n",
    "avg_female_bmi = get_mean([float(row['bmi']) for row in female_data])\n",
    "print(f\"The average bmi for males in the dataset is {avg_male_bmi}.\")\n",
    "print(f\"The average bmi for females in the dataset is {avg_female_bmi}.\\n\")\n",
    "\n",
    "for region,avg_bmi in avg_metric_by_feature(male_data, 'bmi', 'region').items():\n",
    "    print(f\"The average bmi for males in the {region} region is {avg_bmi}.\")\n",
    "\n",
    "for region,avg_bmi in avg_metric_by_feature(female_data, 'bmi', 'region').items():\n",
    "    print(f\"The average bmi for females in the {region} region is {avg_bmi}\")"
   ]
  },
  {
   "cell_type": "markdown",
   "metadata": {},
   "source": [
    "### Analyzing Insurance Data and its relations\n",
    "1. Find average charges in the dataset\n",
    "2. Find average charges by sex\n",
    "3. Find average charges by region\n",
    "4. Find average charges for smokers and non-smokers\n",
    "5. Find average charges for people with different amounts of children"
   ]
  },
  {
   "cell_type": "code",
   "execution_count": 13,
   "metadata": {},
   "outputs": [
    {
     "name": "stdout",
     "output_type": "stream",
     "text": [
      "The average insurance cost in the dataset is 13270.422265141257\n"
     ]
    }
   ],
   "source": [
    "avg_charges = get_mean([float(row['charges']) for row in insurance_data_dicts])\n",
    "print(f\"The average insurance cost in the dataset is {avg_charges}\")"
   ]
  },
  {
   "cell_type": "code",
   "execution_count": 14,
   "metadata": {},
   "outputs": [
    {
     "name": "stdout",
     "output_type": "stream",
     "text": [
      "The average insurance cost for males in the dataset is 13956.751177721886.\n",
      "The average insurance cost for females in the dataset is 12569.57884383534.\n",
      "\n",
      "On average, males in the dataset pay 1387.1723338865468 more for insurance.\n"
     ]
    }
   ],
   "source": [
    "avg_male_charges = get_mean([float(row['charges']) for row in male_data])\n",
    "avg_female_charges = get_mean([float(row['charges']) for row in female_data])\n",
    "print(f\"The average insurance cost for males in the dataset is {avg_male_charges}.\")\n",
    "print(f\"The average insurance cost for females in the dataset is {avg_female_charges}.\\n\")\n",
    "print(f\"On average, males in the dataset pay {avg_male_charges-avg_female_charges} more for insurance.\")"
   ]
  },
  {
   "cell_type": "code",
   "execution_count": 35,
   "metadata": {},
   "outputs": [
    {
     "name": "stdout",
     "output_type": "stream",
     "text": [
      "23.5207100591716% of males in the dataset are smokers.\n",
      "17.371601208459214% of females in the dataset are smokers.\n"
     ]
    }
   ],
   "source": [
    "pct_males_who_smoke = len([1 for row in male_data if row['smoker'] == 'yes']) * 100 / len(male_data)\n",
    "pct_females_who_smoke = len([1 for row in female_data if row['smoker'] == 'yes']) * 100 / len(female_data)\n",
    "print(f\"{pct_males_who_smoke}% of males in the dataset are smokers.\")\n",
    "print(f\"{pct_females_who_smoke}% of females in the dataset are smokers.\")"
   ]
  },
  {
   "cell_type": "code",
   "execution_count": 16,
   "metadata": {},
   "outputs": [
    {
     "name": "stdout",
     "output_type": "stream",
     "text": [
      "The average insurance cost for people in the southwest region is 12346.93737729231\n",
      "The average insurance cost for people in the southeast region is 14735.411437609895\n",
      "The average insurance cost for people in the northwest region is 12417.575373969228\n",
      "The average insurance cost for people in the northeast region is 13406.3845163858\n",
      "The region with the highest insurance costs on average is the southeast region.\n"
     ]
    }
   ],
   "source": [
    "charges_by_region = avg_metric_by_feature(insurance_data_dicts, 'charges', 'region')\n",
    "for region,avg_charges in charges_by_region.items():\n",
    "    print(f\"The average insurance cost for people in the {region} region is {avg_charges}\")\n",
    "\n",
    "highest_cost_region = max(charges_by_region, key=charges_by_region.get)\n",
    "print(f\"The region with the highest insurance costs on average is the {highest_cost_region} region.\")"
   ]
  },
  {
   "cell_type": "code",
   "execution_count": 33,
   "metadata": {},
   "outputs": [
    {
     "name": "stdout",
     "output_type": "stream",
     "text": [
      "The average insurance cost for smokers in the dataset is 32050.23183153285\n",
      "The average insurance cost for non-smokers in the dataset is 8434.268297856199\n",
      "On average, smokers in the dataset pay $23615.96353367665 more on insurance than non-smokers.\n"
     ]
    }
   ],
   "source": [
    "smoker_dict = avg_metric_by_feature(insurance_data_dicts, 'charges','smoker')\n",
    "\n",
    "print(f\"The average insurance cost for smokers in the dataset is {smoker_dict['yes']}\")\n",
    "print(f\"The average insurance cost for non-smokers in the dataset is {smoker_dict['no']}\")\n",
    "print(f\"On average, smokers in the dataset pay ${smoker_dict['yes']-smoker_dict['no']} more on insurance than non-smokers.\")"
   ]
  },
  {
   "cell_type": "code",
   "execution_count": 29,
   "metadata": {},
   "outputs": [
    {
     "name": "stdout",
     "output_type": "stream",
     "text": [
      "574 people had 0 children\n",
      "324 people had 1 children\n",
      "240 people had 2 children\n",
      "157 people had 3 children\n",
      "25 people had 4 children\n",
      "18 people had 5 children\n",
      "\n",
      "People with 0 children have an average insurance cost of 12365.975601635882.\n",
      "People with 1 children have an average insurance cost of 12731.171831635793.\n",
      "People with 2 children have an average insurance cost of 15073.563733958328.\n",
      "People with 3 children have an average insurance cost of 15355.31836681528.\n",
      "People with 4 children have an average insurance cost of 13850.656311199999.\n",
      "People with 5 children have an average insurance cost of 8786.035247222222.\n"
     ]
    }
   ],
   "source": [
    "people_by_num_children = sample_size_by_feature([int(row['children']) for row in insurance_data_dicts])\n",
    "for num_children, people in sorted(people_by_num_children.items()):\n",
    "    print(f\"{people} people had {num_children} children\")\n",
    "\n",
    "print()\n",
    "\n",
    "charges_by_num_children = avg_metric_by_feature(insurance_data_dicts, 'charges','children')\n",
    "for num_children, charges in sorted(charges_by_num_children.items()):\n",
    "    print(f\"People with {num_children} children have an average insurance cost of {charges}.\")"
   ]
  }
 ],
 "metadata": {
  "kernelspec": {
   "display_name": "Python 3 (ipykernel)",
   "language": "python",
   "name": "python3"
  },
  "language_info": {
   "codemirror_mode": {
    "name": "ipython",
    "version": 3
   },
   "file_extension": ".py",
   "mimetype": "text/x-python",
   "name": "python",
   "nbconvert_exporter": "python",
   "pygments_lexer": "ipython3",
   "version": "3.11.5"
  }
 },
 "nbformat": 4,
 "nbformat_minor": 4
}
